{
 "cells": [
  {
   "cell_type": "markdown",
   "id": "84d70b86-8e94-42a1-878a-7ca1eec51bd1",
   "metadata": {},
   "source": [
    "1. 문제링크\n",
    "- https://programmers.co.kr/learn/courses/30/lessons/77884"
   ]
  },
  {
   "cell_type": "markdown",
   "id": "0f2df32d-2e8b-4b9f-b86c-e58b6bc4359d",
   "metadata": {},
   "source": [
    "2. 아이디어\n",
    "\n",
    "- 약수의 정의 : 나눠서 나머지가 0이 되게 하는 수 \n",
    "- 1. 약수 구하기  -> len을 list에 넣기 \n",
    "- 2. list에서 값이 짝수일 경우 + / 홀수 일 경우 - 수행 "
   ]
  },
  {
   "cell_type": "markdown",
   "id": "6d423bec-7e8f-4d74-a9c8-7290dbf5fb16",
   "metadata": {},
   "source": [
    "- % : 나머지\n",
    "- // : 몫\n",
    "- / : 그냥 나누기"
   ]
  },
  {
   "cell_type": "markdown",
   "id": "7a405154-c57c-4103-b105-8cf4e32e9974",
   "metadata": {},
   "source": [
    "3. 문제풀이"
   ]
  },
  {
   "cell_type": "code",
   "execution_count": 1,
   "id": "c830689e-19b9-4f84-a73e-19d20b2e5dd2",
   "metadata": {},
   "outputs": [
    {
     "data": {
      "text/plain": [
       "43"
      ]
     },
     "execution_count": 1,
     "metadata": {},
     "output_type": "execute_result"
    }
   ],
   "source": [
    "def solution(left, right):\n",
    "    # 13-17사이의 숫자 생성\n",
    "    num_list = [ _ for _ in range(left, right+1)] \n",
    "    \n",
    "    num_count = [] # 2.약수의 개수 구하기\n",
    "    for num in num_list:\n",
    "        ack_su = [] # 1. 약수 구하기 \n",
    "        for i in range(1,num+1):\n",
    "            if num % i == 0 : \n",
    "                ack_su.append(i)\n",
    "        num_count.append(len(ack_su)) # 들여쓰기 주의하기 \n",
    "    \n",
    "    # 3. 약수의 개수 홀짝구분 \n",
    "    answer = 0\n",
    "    for i,v in enumerate(num_count) :\n",
    "        if v % 2 == 0: # 약수의 개수가 짝수라면, 처음 숫자값 더해주기 \n",
    "            answer += num_list[i]\n",
    "        else : # 약수의 개수가 홀수라면, 처음 숫자값 빼주기\n",
    "            answer -= num_list[i]\n",
    "    \n",
    "    return answer\n",
    "\n",
    "solution(13,17)"
   ]
  },
  {
   "cell_type": "code",
   "execution_count": 2,
   "id": "ca28f7ad-1555-4396-b461-361c1b0d8171",
   "metadata": {},
   "outputs": [
    {
     "data": {
      "text/plain": [
       "43"
      ]
     },
     "execution_count": 2,
     "metadata": {},
     "output_type": "execute_result"
    }
   ],
   "source": [
    "# 딕셔너리를 사용할 수도 있음 -> 최적의 풀이 \n",
    "\n",
    "def solution(left, right):\n",
    "    # 13-17사이의 숫자 생성\n",
    "    num_list = [ _ for _ in range(left, right+1)] \n",
    "    \n",
    "    num_count_dict = {} # 2.약수의 개수 구하기\n",
    "    for num in num_list:\n",
    "        ack_su = [] # 1. 약수 구하기 \n",
    "        for i in range(1,num+1):\n",
    "            if num % i == 0 :\n",
    "                ack_su.append(i)\n",
    "        num_count_dict[num] = len(ack_su)\n",
    "    \n",
    "    # 3. 약수의 개수 홀짝구분 \n",
    "    answer = 0\n",
    "    for k,v in num_count_dict.items() :\n",
    "        if v % 2 == 0: # 약수의 개수가 짝수라면, 처음 숫자값 더해주기 \n",
    "            answer += k\n",
    "        else : # 약수의 개수가 홀수라면, 처음 숫자값 빼주기\n",
    "            answer -= k\n",
    "    \n",
    "    return answer\n",
    "\n",
    "solution(13,17)"
   ]
  },
  {
   "cell_type": "markdown",
   "id": "3935a0e3-2c63-4941-aea0-2d4d695e9b37",
   "metadata": {},
   "source": [
    "4. 다른코드"
   ]
  },
  {
   "cell_type": "markdown",
   "id": "01c34c14-2db3-4141-bb98-a74d7936b544",
   "metadata": {},
   "source": [
    "4-1. 아이디어\n",
    "\n",
    "- 어떤 수의 ½승이 정수면 그 수는 약수의 개수가 홀수이다. -> 제곱수의 약수의 갯수는 홀수 \n",
    "- ex) 4½ 의 약수의 개수는 1, 2, 4이다.\n",
    "- ex) 16½ 의 약수의 개수는 1, 2, 4, 8, 16이다."
   ]
  },
  {
   "cell_type": "code",
   "execution_count": 3,
   "id": "703b3603-30e7-44a1-966b-71f2a2b7b623",
   "metadata": {},
   "outputs": [
    {
     "data": {
      "text/plain": [
       "43"
      ]
     },
     "execution_count": 3,
     "metadata": {},
     "output_type": "execute_result"
    }
   ],
   "source": [
    "def solution(left,right):\n",
    "    \n",
    "    answer = 0\n",
    "    for i in range(left,right+1):\n",
    "        if int(i**0.5) == i**0.5 : # 값을 곱해줘야 True가 나옴 \n",
    "            answer -= i\n",
    "        else:\n",
    "            answer += i\n",
    "    return answer\n",
    "\n",
    "solution(13,17)"
   ]
  }
 ],
 "metadata": {
  "kernelspec": {
   "display_name": "Python 3 (ipykernel)",
   "language": "python",
   "name": "python3"
  },
  "language_info": {
   "codemirror_mode": {
    "name": "ipython",
    "version": 3
   },
   "file_extension": ".py",
   "mimetype": "text/x-python",
   "name": "python",
   "nbconvert_exporter": "python",
   "pygments_lexer": "ipython3",
   "version": "3.8.12"
  }
 },
 "nbformat": 4,
 "nbformat_minor": 5
}
