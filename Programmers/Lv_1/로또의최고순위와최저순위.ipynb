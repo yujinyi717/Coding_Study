{
 "cells": [
  {
   "cell_type": "markdown",
   "id": "308e9882-be37-4451-9000-d6317810b50c",
   "metadata": {},
   "source": [
    "1. 문제링크"
   ]
  },
  {
   "cell_type": "markdown",
   "id": "bff64296-a656-4095-adbc-9dfef7392ac3",
   "metadata": {},
   "source": [
    "- https://programmers.co.kr/learn/courses/30/lessons/77484?language=python3"
   ]
  },
  {
   "cell_type": "markdown",
   "id": "0d8d52a2-b972-4563-ba41-6884aa57131b",
   "metadata": {},
   "source": [
    "2) 아이디어"
   ]
  },
  {
   "cell_type": "markdown",
   "id": "69cc32ee-22cd-4460-8bf9-8f211524d021",
   "metadata": {},
   "source": [
    "- 갯수에 따른 로또 점수를 딕셔너리 사용을 통해 해결 \n",
    "- for, if 문 활용 "
   ]
  },
  {
   "cell_type": "markdown",
   "id": "de4e6d0a-f162-484a-8bba-7acd1f6027d0",
   "metadata": {},
   "source": [
    "3) 핵심 "
   ]
  },
  {
   "cell_type": "markdown",
   "id": "b2e2f9f9-b9d9-4ce6-9c1d-d61b8c3135a5",
   "metadata": {},
   "source": [
    "- 딕셔너리, 리스트 개념 자유자재로 사용\n",
    "- 리스트 내의 포함되는 값의 개수 세려면 : list.count('포함값')"
   ]
  },
  {
   "cell_type": "markdown",
   "id": "a379dea7-c4f1-4dd8-8764-f765f9ad12c4",
   "metadata": {},
   "source": [
    "4) 문제풀이"
   ]
  },
  {
   "cell_type": "code",
   "execution_count": 6,
   "id": "cda8db39-3fa4-4d8e-a849-ca117146df57",
   "metadata": {},
   "outputs": [
    {
     "data": {
      "text/plain": [
       "[3, 5]"
      ]
     },
     "execution_count": 6,
     "metadata": {},
     "output_type": "execute_result"
    }
   ],
   "source": [
    "# SOL 1)\n",
    "def solution(lottos, win_nums):\n",
    "\n",
    "    \n",
    "    # 1. 점수 딕셔너리로 설정 \n",
    "    rank_num = {6:1,5:2,4:3,3:4,2:5,1:6,0:6} \n",
    "    \n",
    "    # 2. loottos의 값이 win_min에 있을 경우, 숫자 추가 ( a가 0일 경우는 하나 더 추가 ) \n",
    "    max_sum = 0\n",
    "    min_sum = 0  \n",
    "    for a in lottos:\n",
    "        if a in win_nums :\n",
    "            max_sum += 1\n",
    "            min_sum += 1\n",
    "        if a == 0 :\n",
    "            max_sum += 1\n",
    "    \n",
    "    # 3. 딕셔너리 내에서 값 찾기\n",
    "    answer = [rank_num[max_sum],rank_num[min_sum]]\n",
    "    \n",
    "    return answer\n",
    "\n",
    "solution([44, 1, 0, 0, 31, 25],[31, 10, 45, 1, 6, 19])"
   ]
  },
  {
   "cell_type": "code",
   "execution_count": 8,
   "id": "9f180cd0-fd6a-423b-9e3e-3980d5ac15c1",
   "metadata": {},
   "outputs": [
    {
     "data": {
      "text/plain": [
       "[3, 5]"
      ]
     },
     "execution_count": 8,
     "metadata": {},
     "output_type": "execute_result"
    }
   ],
   "source": [
    "# SOL 2) 0의 갯수를 기준, 딕셔너리 아니고 리스트만을 활용 (점수 - 리스트) => 이 풀이가 좀 더 직관적! \n",
    "def solution(lottos, win_nums):\n",
    "    \n",
    "    # 1. 점수 리스트 설정 \n",
    "    score = [6,6,5,4,3,2,1]\n",
    "    \n",
    "    # 2. lottos에서 0의 개수세기\n",
    "    cnt_0 = lottos.count(0)\n",
    "    \n",
    "    # 3. lottos의 값이 win_num에 있을 경우, 숫자 추가\n",
    "    ans = 0\n",
    "    for i in lottos:\n",
    "        if i in win_nums :\n",
    "            ans += 1\n",
    "\n",
    "    # 4. list내에서 점수 찾기 \n",
    "    answer = [score[cnt_0 + ans],score[ans]]\n",
    "    return answer\n",
    "\n",
    "solution([44, 1, 0, 0, 31, 25],[31, 10, 45, 1, 6, 19])"
   ]
  }
 ],
 "metadata": {
  "kernelspec": {
   "display_name": "Python 3 (ipykernel)",
   "language": "python",
   "name": "python3"
  },
  "language_info": {
   "codemirror_mode": {
    "name": "ipython",
    "version": 3
   },
   "file_extension": ".py",
   "mimetype": "text/x-python",
   "name": "python",
   "nbconvert_exporter": "python",
   "pygments_lexer": "ipython3",
   "version": "3.9.7"
  }
 },
 "nbformat": 4,
 "nbformat_minor": 5
}
