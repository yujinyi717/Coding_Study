{
 "cells": [
  {
   "cell_type": "markdown",
   "id": "9f8dfcc2-6aac-42f0-8fe4-d8527e038a5c",
   "metadata": {},
   "source": [
    "1. 문제 링크\n",
    "- https://programmers.co.kr/learn/courses/30/lessons/12954"
   ]
  },
  {
   "cell_type": "markdown",
   "id": "b7d03d34-8f78-40c9-bb2f-d840f0d5a7bd",
   "metadata": {},
   "source": [
    "2. 문제풀이 "
   ]
  },
  {
   "cell_type": "code",
   "execution_count": 1,
   "id": "7041e009-57a7-4da3-b16f-7ffbae299949",
   "metadata": {},
   "outputs": [
    {
     "data": {
      "text/plain": [
       "[2, 4, 6, 8, 10]"
      ]
     },
     "execution_count": 1,
     "metadata": {},
     "output_type": "execute_result"
    }
   ],
   "source": [
    "# sol 1)\n",
    "\n",
    "def solution(x, n):\n",
    "    answer = []\n",
    "    int(x)\n",
    "    for i in range(n):\n",
    "        answer.append(x*(i+1)) # 주의! x(i+1) 안됌! -> int type 고려 \n",
    "    return answer\n",
    "\n",
    "solution(2,5)"
   ]
  },
  {
   "cell_type": "code",
   "execution_count": 2,
   "id": "771f8f16-308a-4bf6-933c-5ebce73ddb0b",
   "metadata": {},
   "outputs": [
    {
     "data": {
      "text/plain": [
       "[3, 6, 9, 12, 15]"
      ]
     },
     "execution_count": 2,
     "metadata": {},
     "output_type": "execute_result"
    }
   ],
   "source": [
    "# sol 2)\n",
    "\n",
    "def solution_2(x,n):\n",
    "    [x*(i+n) for i in range(n)]\n",
    "    \n",
    "solution(3,5)"
   ]
  }
 ],
 "metadata": {
  "kernelspec": {
   "display_name": "Python 3",
   "language": "python",
   "name": "python3"
  },
  "language_info": {
   "codemirror_mode": {
    "name": "ipython",
    "version": 3
   },
   "file_extension": ".py",
   "mimetype": "text/x-python",
   "name": "python",
   "nbconvert_exporter": "python",
   "pygments_lexer": "ipython3",
   "version": "3.8.8"
  }
 },
 "nbformat": 4,
 "nbformat_minor": 5
}
