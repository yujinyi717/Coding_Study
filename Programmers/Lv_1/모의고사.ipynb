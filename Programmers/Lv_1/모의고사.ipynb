{
 "cells": [
  {
   "cell_type": "markdown",
   "id": "0721d76d-c04e-4e16-be0a-b83d81424a4d",
   "metadata": {},
   "source": [
    "1. 문제풀이 링크 \n",
    "- https://programmers.co.kr/learn/courses/30/lessons/42840"
   ]
  },
  {
   "cell_type": "markdown",
   "id": "6702b7e2-8156-47f8-8d76-5bb5f7679204",
   "metadata": {},
   "source": [
    "2. 아이디어\n",
    "- 수포자들이 맞은 수를 배열하는 리스트 설정 \n",
    "- 입력받은 answers의 개수만큼 반복해서, 각각의 리스트값을 비교 -> 중복 될 수 있으므로 elif 사용 x, if를 사용해야 함 \n",
    "- key. 반복되는 아이디어는 '%'나누기를 사용해 반복을 진행해줌 \n",
    "- 수포자들이 맞은 수 중에서 가장 큰 수를 출력\n",
    "- 가장 큰 수가 cnt의 값과 같다면, answer의 리스트에 값 추가 "
   ]
  },
  {
   "cell_type": "markdown",
   "id": "2603bba4-a66d-4a6b-bd8e-5605e12c30f9",
   "metadata": {},
   "source": [
    "3. 핵심 \n",
    "- 각 문제마다 값 비교 및 반복될 경우 나머지 이용( 주기 ) \n",
    "- 가장 많이 맞춘 사람 비교해 배열에 담기"
   ]
  },
  {
   "cell_type": "markdown",
   "id": "335aef12-c3cb-4e4b-9d30-5f771340c30c",
   "metadata": {},
   "source": [
    "4. 문제풀이"
   ]
  },
  {
   "cell_type": "code",
   "execution_count": 2,
   "id": "5db5f79b-19fd-4e9a-90af-e6f714954387",
   "metadata": {},
   "outputs": [
    {
     "data": {
      "text/plain": [
       "[3]"
      ]
     },
     "execution_count": 2,
     "metadata": {},
     "output_type": "execute_result"
    }
   ],
   "source": [
    "def solution(answers):\n",
    "    answer = []\n",
    "    \n",
    "    # 1. 수포자들의 찍는 방식 \n",
    "    num_1 = [1,2,3,4,5]\n",
    "    num_2 = [2,1,2,3,2,4,2,5]\n",
    "    num_3 = [3,3,1,1,2,2,4,4,5,5]\n",
    "    \n",
    "    # 2. 주기를 돌면서, 찍은 점수와 실제 점수 비교 \n",
    "    supo_count = [0,0,0]\n",
    "    for i in range(len(answers)):\n",
    "        if answers[i] == num_1[i % len(num_1)]:\n",
    "            supo_count[0] += 1\n",
    "        if answers[i] == num_2[i % len(num_2)]:\n",
    "            supo_count[1] += 1\n",
    "        if answers[i] == num_3[i % len(num_3)]:\n",
    "            supo_count[2] += 1\n",
    "    \n",
    "    # 3. max 값 추출 및 max에 해당하는 수포자 추출 \n",
    "    \n",
    "    # 값 추출\n",
    "    max_supo = max(supo_count)\n",
    "    # max에 해당하는 수포자 추출 \n",
    "    for i in range(len(supo_count)):\n",
    "        if max_supo == supo_count[i]:\n",
    "            answer.append(i+1)\n",
    "    \n",
    "    return answer\n",
    "\n",
    "solution([1, 3, 2, 4, 2, 2, 3, 1, 4, 5, 2, 3, 4])"
   ]
  },
  {
   "cell_type": "markdown",
   "id": "e4736275-d2de-4b6f-907e-b7b60d85d3c3",
   "metadata": {},
   "source": [
    "4-1. 정리"
   ]
  },
  {
   "cell_type": "code",
   "execution_count": 3,
   "id": "5b2772f3-a2a5-4830-aea7-5b667cdb4c44",
   "metadata": {},
   "outputs": [
    {
     "data": {
      "text/plain": [
       "[3]"
      ]
     },
     "execution_count": 3,
     "metadata": {},
     "output_type": "execute_result"
    }
   ],
   "source": [
    "def solution(answers):\n",
    "    answer = []\n",
    "    \n",
    "    # 수포자들이 찍는 값\n",
    "    num_1 = [1,2,3,4,5]\n",
    "    num_2 = [2,1,2,3,2,4,2,5]\n",
    "    num_3 = [3,3,1,1,2,2,4,4,5,5]\n",
    "    \n",
    "    # 각 수포자가 맞은 수를 기록하는 배열 \n",
    "    cnt = [0,0,0]\n",
    "    \n",
    "    # 입력받은 답안을 토대로 각 수포자가 얼마나 맞았는지 탐색 -> 이거 생각 및 구현이 핵심  \n",
    "    for i in range(len(answers)):\n",
    "        if answers[i] == num_1[i % len(num_1)]: # 반복이 될 경우를 이용하려면, 나눠서 나머지를 이용하면 된다는 생각\n",
    "            cnt[0] += 1\n",
    "        if answers[i] == num_2[i % len(num_2)]: # 주의 ! elif를 사용하면 안됌 ! \n",
    "            cnt[1] += 1\n",
    "        if answers[i] == num_3[i % len(num_3)]:\n",
    "            cnt[2] += 1\n",
    "    \n",
    "    # 가장 많이 맞춘 수 \n",
    "    max_cnt = max(cnt)\n",
    "    \n",
    "    # 가장 많이 맞춘 사람을 배열에 담기\n",
    "    for i in range(len(cnt)):\n",
    "        if max_cnt == cnt[i] :\n",
    "            answer.append(i+1) # ,를 기준으로 값이 계속 추가 \n",
    "    \n",
    "    return answer\n",
    "\n",
    "solution([1, 3, 2, 4, 2, 2, 3, 1, 4, 5, 2, 3, 4])"
   ]
  }
 ],
 "metadata": {
  "kernelspec": {
   "display_name": "Python 3 (ipykernel)",
   "language": "python",
   "name": "python3"
  },
  "language_info": {
   "codemirror_mode": {
    "name": "ipython",
    "version": 3
   },
   "file_extension": ".py",
   "mimetype": "text/x-python",
   "name": "python",
   "nbconvert_exporter": "python",
   "pygments_lexer": "ipython3",
   "version": "3.8.12"
  }
 },
 "nbformat": 4,
 "nbformat_minor": 5
}
