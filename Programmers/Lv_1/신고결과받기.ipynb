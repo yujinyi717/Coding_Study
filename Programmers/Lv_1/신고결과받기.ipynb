{
 "cells": [
  {
   "cell_type": "markdown",
   "id": "c7422ac1-6a44-4a54-ba41-5c2deccee023",
   "metadata": {},
   "source": [
    "1) 문제풀이 링크\n",
    "- https://programmers.co.kr/learn/courses/30/lessons/64061"
   ]
  },
  {
   "cell_type": "markdown",
   "id": "da063d08-9e3c-49ac-b518-066415495ac9",
   "metadata": {},
   "source": [
    "2) 아이디어\n",
    "\n",
    "- report(신고리스트)에 중복을 제거 : set() 함수 이용 \n",
    "- 각각의 신고받은 횟수를 key에 해당하는 value값에 추가  : dictionary의 value에 count 추가 하는 방식\n",
    "- 신고횟수가 k 이상 추출 -> 그 추출된 값의 list의 index를 찾아서 그 값에 1을 더함"
   ]
  },
  {
   "cell_type": "markdown",
   "id": "4e29a8e6-793d-4dd1-984c-10fec123a725",
   "metadata": {},
   "source": [
    "3) 핵심개념 \n",
    "\n",
    "- set 함수 \n",
    "    - 딕셔너리 type에서 중복 제거 \n",
    "    - https://wikidocs.net/16044\n",
    "    - remove, update, add 사용 \n",
    "- dictionary \n",
    "    - del a['alice']\n",
    "    - https://wikidocs.net/16043\n",
    "- list의 index \n",
    "    - b = ['hi', 'hello', 'bye', 'hello', 'hi']\n",
    "    - b.index('hello')\n",
    "    \n",
    "- split\n",
    "    - split() : 공백이 1개이건 2개이건 n개이건, 갯수에 상관없이 무조건 1개로 보고 처리 -> 단어 단위로 끊을 때를 생각하면 이거 사용 \n",
    "    - split(' ') : 공백이 1개, 1개를 각각의 공백으로 따로따로 처리함 \n",
    "    - https://somjang.tistory.com/entry/Python-%EB%AC%B8%EC%9E%90%EC%97%B4-split-%EA%B3%BC-split-%EC%B0%A8%EC%9D%B4-%EC%95%8C%EC%95%84%EB%B3%B4%EA%B8%B0"
   ]
  },
  {
   "cell_type": "markdown",
   "id": "6cf5b83d-119c-473d-a1c1-547f5720edb8",
   "metadata": {},
   "source": [
    "4) 초기 문제풀이 - 시간초과 발생 "
   ]
  },
  {
   "cell_type": "code",
   "execution_count": 1,
   "id": "f0746e35-189f-42c0-a5a5-c4b11fa077bb",
   "metadata": {},
   "outputs": [
    {
     "data": {
      "text/plain": [
       "[2, 1, 1, 0]"
      ]
     },
     "execution_count": 1,
     "metadata": {},
     "output_type": "execute_result"
    }
   ],
   "source": [
    "def solution(id_list, report, k):\n",
    "\n",
    "    # 1. report리스트내에서 중복이 되는 값 제거 -> set 사용 (중복 제거하는 또 다른 방법 찾아보기 )\n",
    "    report = list(set(report))\n",
    "            \n",
    "    # 2. report 오른쪽에 해당하는 키워드의 갯수가 n개 이상인 키워드 추출     \n",
    "    # right = [ sent.split(' ')[1] for sent in report ]  \n",
    "    # dic =  [ right[i] for i in range(len(right)) if right.count(right[i]) >= k ] \n",
    "    dic = [ i.split(' ')[1] for i in report if [sent.split(' ')[1] for sent in report].count(i.split(' ')[1]) >= k]\n",
    "    \n",
    "    \n",
    "    # 3. n개 이상이라면, report의 오른쪽에 해당하는 왼쪽의 키워드 출력 \n",
    "    dic_2 = [ i.split(' ')[0] for i in report if i.split(' ')[1] in dic]\n",
    "    \n",
    "    # 4. list (len(키워드)) 사용 \n",
    "    answer = [ dic_2.count(id_list[i]) for i in range(len(id_list))]\n",
    "    \n",
    "    return answer\n",
    "\n",
    "solution([\"muzi\", \"frodo\", \"apeach\", \"neo\"], [\"muzi frodo\",\"apeach frodo\",\"frodo neo\",\"muzi neo\",\"apeach muzi\"], 2)"
   ]
  },
  {
   "cell_type": "markdown",
   "id": "e62b135f-250d-49f2-bd8b-43e773d98cfd",
   "metadata": {},
   "source": [
    "5) 수정 문제풀이 "
   ]
  },
  {
   "cell_type": "code",
   "execution_count": 2,
   "id": "e2ee7929-68c9-4c71-b5fd-67f55a5c3397",
   "metadata": {},
   "outputs": [
    {
     "data": {
      "text/plain": [
       "[2, 1, 1, 0]"
      ]
     },
     "execution_count": 2,
     "metadata": {},
     "output_type": "execute_result"
    }
   ],
   "source": [
    "def solution(id_list, report, k):\n",
    "    \n",
    "    result = [0]*len(id_list) # 최종 answer list에 값을 추가  # ex) [0,0,0,0]\n",
    "    dic = {x:0 for x in id_list} # 신고 받은 횟수를 저장 \n",
    "    \n",
    "    # 1. report의 중복을 제거 \n",
    "    report = set(report)\n",
    "    \n",
    "    # 2. report에서 신고를 받은 사람의 횟수를 출력 -> dictionary 활용 \n",
    "    for i in report :\n",
    "        dic[i.split()[1]] += 1 #딕셔너리 value 값에 1씩 추가 하는 것 \n",
    "        \n",
    "    # 3. 신고 받은 횟수가 k 이상일 경우 / k 이상일 때, 신고자에게 메일이 보내지는 경우\n",
    "    for i in report :\n",
    "        if dic[i.split()[1]] >= k : # resports[each.split()[1]]는 reports dictionary의 value가 k이상이라면 \n",
    "            result[id_list.index(i.split()[0])] += 1 # 리스트의 인덱스를 활용\n",
    "    \n",
    "    return result\n",
    "\n",
    "solution([\"muzi\", \"frodo\", \"apeach\", \"neo\"], [\"muzi frodo\",\"apeach frodo\",\"frodo neo\",\"muzi neo\",\"apeach muzi\"], 2)"
   ]
  },
  {
   "cell_type": "markdown",
   "id": "49eead72-d406-4b1a-9f17-157acb1fb81f",
   "metadata": {},
   "source": [
    "6) 배운 점 \n",
    "\n",
    "- list 보다는 list comprehension이 빠름\n",
    "- 이것보다는 dictionary가 빠름 "
   ]
  }
 ],
 "metadata": {
  "kernelspec": {
   "display_name": "Python 3 (ipykernel)",
   "language": "python",
   "name": "python3"
  },
  "language_info": {
   "codemirror_mode": {
    "name": "ipython",
    "version": 3
   },
   "file_extension": ".py",
   "mimetype": "text/x-python",
   "name": "python",
   "nbconvert_exporter": "python",
   "pygments_lexer": "ipython3",
   "version": "3.8.12"
  }
 },
 "nbformat": 4,
 "nbformat_minor": 5
}
