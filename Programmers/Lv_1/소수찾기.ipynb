{
 "cells": [
  {
   "cell_type": "markdown",
   "id": "223aa8c1-9fac-4b82-8eec-907279d52a23",
   "metadata": {},
   "source": [
    "1) 문제링크"
   ]
  },
  {
   "cell_type": "markdown",
   "id": "996de1b4-57ff-4b0c-b283-b3fa6b3ab9d6",
   "metadata": {},
   "source": [
    "- https://programmers.co.kr/learn/courses/30/lessons/12921"
   ]
  },
  {
   "cell_type": "markdown",
   "id": "06378cad-d106-46a3-a720-f34d3b15b288",
   "metadata": {},
   "source": [
    "2) 아이디어 "
   ]
  },
  {
   "cell_type": "markdown",
   "id": "8a249b69-6f53-4649-83b4-26a5c45858d9",
   "metadata": {},
   "source": [
    "- 약수 : 나머지가 0인 수 => 이중 포문 사용 \n",
    "- 소수 : 약수의 갯수가 1개인 수 "
   ]
  },
  {
   "cell_type": "markdown",
   "id": "ea20da4c-2c43-4aad-bb0d-59f61d32024b",
   "metadata": {},
   "source": [
    "3) 핵심"
   ]
  },
  {
   "cell_type": "markdown",
   "id": "709e78cf-998a-42fe-800b-9a0364f100f1",
   "metadata": {},
   "source": [
    "- 효율성 : 범위를 (1,n+1)에서 이거의 루트인 int((n+1)**0.5)까지의 범위만 돌면 된다  "
   ]
  },
  {
   "cell_type": "markdown",
   "id": "bf6a5faf-95d6-4fef-afc3-d80f7f25239c",
   "metadata": {},
   "source": [
    "4) 문제풀이 "
   ]
  },
  {
   "cell_type": "code",
   "execution_count": 17,
   "id": "3fb20e4f-679a-40b7-8a58-6f2991478604",
   "metadata": {},
   "outputs": [
    {
     "data": {
      "text/plain": [
       "4"
      ]
     },
     "execution_count": 17,
     "metadata": {},
     "output_type": "execute_result"
    }
   ],
   "source": [
    "# sol 1) 약수의 갯수가 2일 경우(1포함), 갯수 출력 / int((n+1)**0.5)범위까지만 돌기 => 답은 맞지만 효율성 에러 \n",
    "def solution(n):\n",
    "    answer = -1 # 2. 약수의 갯수가 2일 경우 \n",
    "    for i in range(1,n+1):\n",
    "        aacsu = 0 # 1. 각각의 수에 해당하는 약수의 갯수 \n",
    "        for j in range(2,int((i+1)**0.5)+1):\n",
    "            if i%j == 0 : # 주의 사항! 나누기는 % 사용 \n",
    "                aacsu += 1\n",
    "        if aacsu == 0:\n",
    "            answer += 1\n",
    "    return answer\n",
    "solution(10)"
   ]
  },
  {
   "cell_type": "code",
   "execution_count": 18,
   "id": "44fd90f7-028f-4abe-9ce4-c5fda7217237",
   "metadata": {},
   "outputs": [
    {
     "data": {
      "text/plain": [
       "4"
      ]
     },
     "execution_count": 18,
     "metadata": {},
     "output_type": "execute_result"
    }
   ],
   "source": [
    "# 효율성 에러나는 코드 \n",
    "# sol 2) 효율성 있게 변경 => 약수를 가질 수 있는 경우는 2가지 존재 \n",
    "# 소수를 가질 경우, 1,n이 n이 될 경우를 만들어야 하는 것 \n",
    "# 즉, 1 ~ n+1까지의 범위에서 2개를 출력할 경우 -> 2 ~ n-1까지일 경우에서 0개가 출력되면 됌 \n",
    "\n",
    "def solution(n):\n",
    "    answer = 0 # 2. 약수의 갯수가 2일 경우 \n",
    "    for i in range(2,n+1):\n",
    "        aacsu = True # 1. 각각의 수에 해당하는 약수의 갯수 \n",
    "        for j in range(2,int((i)**0.5+1)): # 약수가 포함되지 않는 범위 \n",
    "            if i%j == 0 : # 주의 사항! 나누기는 % 사용 \n",
    "                aacsu = False # 약수가 나타날 경우 false 사용 \n",
    "        if aacsu :\n",
    "            answer += 1\n",
    "    return answer\n",
    "solution(10)"
   ]
  },
  {
   "cell_type": "code",
   "execution_count": 19,
   "id": "c034130d-529d-4e89-af2f-ba7013f87e6f",
   "metadata": {},
   "outputs": [
    {
     "data": {
      "text/plain": [
       "4"
      ]
     },
     "execution_count": 19,
     "metadata": {},
     "output_type": "execute_result"
    }
   ],
   "source": [
    "# sol 3 ) 아리스토체 방법 => 통과 \n",
    "\n",
    "def solution(n):\n",
    "    num=set(range(2,n+1)) # dictionary 타입으로 만듬 \n",
    "\n",
    "    for i in range(2,n+1):\n",
    "        if i in num:\n",
    "            num-=set(range(i*i,n+1,i))\n",
    "    return len(num)\n",
    "solution(10)"
   ]
  },
  {
   "cell_type": "code",
   "execution_count": 20,
   "id": "c08438ec-ece7-4169-83cb-79f84809150a",
   "metadata": {},
   "outputs": [
    {
     "data": {
      "text/plain": [
       "4"
      ]
     },
     "execution_count": 20,
     "metadata": {},
     "output_type": "execute_result"
    }
   ],
   "source": [
    "# sol 4 ) 아리스토체 방법 => 통과 \n",
    "#  int((n+1)**0.5)까지의 범위만 돌면 된다\n",
    "\n",
    "def solution(n):\n",
    "    num=set(range(2,n+1))\n",
    "\n",
    "    for i in range(2,int((n+1)**0.5+1)):\n",
    "        if i in num:\n",
    "            num-=set(range(i*i,n+1,i))\n",
    "    return len(num)\n",
    "solution(10)"
   ]
  }
 ],
 "metadata": {
  "kernelspec": {
   "display_name": "Python 3 (ipykernel)",
   "language": "python",
   "name": "python3"
  },
  "language_info": {
   "codemirror_mode": {
    "name": "ipython",
    "version": 3
   },
   "file_extension": ".py",
   "mimetype": "text/x-python",
   "name": "python",
   "nbconvert_exporter": "python",
   "pygments_lexer": "ipython3",
   "version": "3.8.12"
  }
 },
 "nbformat": 4,
 "nbformat_minor": 5
}
