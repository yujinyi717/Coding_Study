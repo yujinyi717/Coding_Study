{
 "cells": [
  {
   "cell_type": "markdown",
   "id": "5664ecca-b4f4-4d14-a0ee-0bd6462c47e0",
   "metadata": {},
   "source": [
    "1. 문제링크 \n",
    "- https://programmers.co.kr/learn/courses/30/lessons/42748"
   ]
  },
  {
   "cell_type": "markdown",
   "id": "5aafe604-349c-47cf-9c17-61e80e178e92",
   "metadata": {},
   "source": [
    "2. 아이디어 정리 \n",
    "\n",
    "- 제시된 숫자가 하나 더 큼 -1 해줄것 /리스트 쪼개기, sorted로 값 정렬 \n",
    "- 리스트 쪼개기, sorted 값 정렬, list comprehension 사용 \n",
    "- 람다 함수 활용 \n",
    "- 각자의 변수 할당 "
   ]
  },
  {
   "cell_type": "markdown",
   "id": "4b81ebdf-8dd6-4f4b-b695-32c06cb6ad5e",
   "metadata": {},
   "source": [
    "3. 문제풀이"
   ]
  },
  {
   "cell_type": "code",
   "execution_count": 1,
   "id": "49fe0165-1e4c-48bc-90c9-7f3d69ff0e0d",
   "metadata": {},
   "outputs": [
    {
     "data": {
      "text/plain": [
       "[5, 6, 3]"
      ]
     },
     "execution_count": 1,
     "metadata": {},
     "output_type": "execute_result"
    }
   ],
   "source": [
    "# sol 1 ) 제시된 숫자가 하나 더 큼 -1 해줄것 /리스트 쪼개기, sorted로 값 정렬 \n",
    "\n",
    "def solution(array, commands):\n",
    "    answer = []\n",
    "    for i in commands:\n",
    "        sorted_value = sorted(array[i[0]-1:i[1]]) # str\n",
    "        result = sorted_value[i[2]-1]\n",
    "        answer.append(result)\n",
    "    return answer\n",
    "\n",
    "solution([1, 5, 2, 6, 3, 7, 4], [[2, 5, 3], [4, 4, 1], [1, 7, 3]])"
   ]
  },
  {
   "cell_type": "code",
   "execution_count": 2,
   "id": "cc77d558-2199-482a-87c9-b12f3e923b7f",
   "metadata": {},
   "outputs": [
    {
     "data": {
      "text/plain": [
       "[5, 6, 3]"
      ]
     },
     "execution_count": 2,
     "metadata": {},
     "output_type": "execute_result"
    }
   ],
   "source": [
    "# sol 2 ) 리스트 쪼개기, sorted 값 정렬, list comprehension 사용 \n",
    "\n",
    "def solution(array,commands):\n",
    "    return [sorted(array[i[0]-1:i[1]])[i[2]-1] for i in commands]\n",
    "\n",
    "solution([1, 5, 2, 6, 3, 7, 4], [[2, 5, 3], [4, 4, 1], [1, 7, 3]])"
   ]
  },
  {
   "cell_type": "code",
   "execution_count": 3,
   "id": "429e52fc-4265-4e45-946c-8f7b195284f6",
   "metadata": {},
   "outputs": [
    {
     "data": {
      "text/plain": [
       "[5, 6, 3]"
      ]
     },
     "execution_count": 3,
     "metadata": {},
     "output_type": "execute_result"
    }
   ],
   "source": [
    "# sol 3 ) 람다 함수 활용 \n",
    "\n",
    "def solution(array,commands):\n",
    "    return list(map(lambda x: sorted(array[x[0]-1:x[1]])[x[2]-1],commands)) # 주의 : 마지막에 [] 로 작성할 경우 map 함수로만 출력-> 결과가 출력되지 않음 \n",
    "\n",
    "solution([1, 5, 2, 6, 3, 7, 4], [[2, 5, 3], [4, 4, 1], [1, 7, 3]])"
   ]
  },
  {
   "cell_type": "code",
   "execution_count": 4,
   "id": "8d401d34-eb7c-4aae-892c-0178eafe9486",
   "metadata": {},
   "outputs": [
    {
     "data": {
      "text/plain": [
       "[5, 6, 3]"
      ]
     },
     "execution_count": 4,
     "metadata": {},
     "output_type": "execute_result"
    }
   ],
   "source": [
    "# sol 4 ) 각자의 변수 할당 \n",
    "def solution(array,commands):\n",
    "    return [sorted(array[a-1:b])[c-1] for a,b,c in commands] \n",
    "\n",
    "solution([1, 5, 2, 6, 3, 7, 4], [[2, 5, 3], [4, 4, 1], [1, 7, 3]])"
   ]
  }
 ],
 "metadata": {
  "kernelspec": {
   "display_name": "Python 3",
   "language": "python",
   "name": "python3"
  },
  "language_info": {
   "codemirror_mode": {
    "name": "ipython",
    "version": 3
   },
   "file_extension": ".py",
   "mimetype": "text/x-python",
   "name": "python",
   "nbconvert_exporter": "python",
   "pygments_lexer": "ipython3",
   "version": "3.8.8"
  }
 },
 "nbformat": 4,
 "nbformat_minor": 5
}
