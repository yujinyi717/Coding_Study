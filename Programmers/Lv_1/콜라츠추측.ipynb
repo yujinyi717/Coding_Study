{
 "cells": [
  {
   "cell_type": "markdown",
   "id": "41360aa4-c046-492a-b99f-28ec7db3315a",
   "metadata": {},
   "source": [
    "1. 문제링크\n",
    "- https://programmers.co.kr/learn/courses/30/lessons/12943#"
   ]
  },
  {
   "cell_type": "markdown",
   "id": "356a2e04-00e3-4199-a62f-c741d8761616",
   "metadata": {},
   "source": [
    "2. 아이디어 정리 "
   ]
  },
  {
   "cell_type": "markdown",
   "id": "2b7b0954-fdfd-4fe5-942a-8ee013eebc43",
   "metadata": {},
   "source": [
    "- while num이 1이 되면 멈출 때, \n",
    "- while true로 여러개의 if 사용가능 \n",
    "\n",
    "- 사용된 개념 : while, if, else, break"
   ]
  },
  {
   "cell_type": "markdown",
   "id": "0d4f3328-69b5-4f1c-901e-730d7b4027f4",
   "metadata": {},
   "source": [
    "3. 문제풀이"
   ]
  },
  {
   "cell_type": "code",
   "execution_count": 1,
   "id": "a60d1654-be0c-4a58-b930-8d978e71c7f8",
   "metadata": {},
   "outputs": [
    {
     "data": {
      "text/plain": [
       "4"
      ]
     },
     "execution_count": 1,
     "metadata": {},
     "output_type": "execute_result"
    }
   ],
   "source": [
    "# sol 1)\n",
    "\n",
    "def solution(num):\n",
    "    answer = 0\n",
    "    while num != 1: # num이 1이 되는 순간 반복을 멈추게 됨 \n",
    "        if answer > 500 :\n",
    "            return -1\n",
    "        if num % 2 == 0 :\n",
    "            num //= 2\n",
    "        else :\n",
    "            num = num*3 + 1\n",
    "        answer += 1\n",
    "    \n",
    "    return answer\n",
    "\n",
    "solution(16)"
   ]
  },
  {
   "cell_type": "code",
   "execution_count": 2,
   "id": "e45b2e7c-0400-44ff-a899-2139301aea9c",
   "metadata": {},
   "outputs": [
    {
     "data": {
      "text/plain": [
       "4"
      ]
     },
     "execution_count": 2,
     "metadata": {},
     "output_type": "execute_result"
    }
   ],
   "source": [
    "# sol 2)\n",
    "\n",
    "def solution(num):\n",
    "    answer = 0\n",
    "    while True :\n",
    "        if num == 1 :\n",
    "            break\n",
    "        if answer > 500 :\n",
    "            return -1\n",
    "        if num % 2 == 0 :\n",
    "            num //= 2\n",
    "        else :\n",
    "            num = num * 3 + 1\n",
    "        answer += 1\n",
    "        \n",
    "    return answer\n",
    "\n",
    "solution(16)"
   ]
  }
 ],
 "metadata": {
  "kernelspec": {
   "display_name": "Python 3 (ipykernel)",
   "language": "python",
   "name": "python3"
  },
  "language_info": {
   "codemirror_mode": {
    "name": "ipython",
    "version": 3
   },
   "file_extension": ".py",
   "mimetype": "text/x-python",
   "name": "python",
   "nbconvert_exporter": "python",
   "pygments_lexer": "ipython3",
   "version": "3.8.12"
  }
 },
 "nbformat": 4,
 "nbformat_minor": 5
}
