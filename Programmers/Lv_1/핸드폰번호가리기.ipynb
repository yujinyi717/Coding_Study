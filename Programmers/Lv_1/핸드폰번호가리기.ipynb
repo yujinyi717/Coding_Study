{
 "cells": [
  {
   "cell_type": "markdown",
   "id": "37c4a5af-b412-47d6-b10e-207c3d4929dd",
   "metadata": {},
   "source": [
    "1. 문제링크\n",
    "\n",
    "https://programmers.co.kr/learn/courses/30/lessons/12948"
   ]
  },
  {
   "cell_type": "markdown",
   "id": "6a9de423-037d-4e04-a876-50363521a5b7",
   "metadata": {},
   "source": [
    "2. 아이디어\n",
    "\n",
    "- replace 사용 "
   ]
  },
  {
   "cell_type": "markdown",
   "id": "cf885340-3012-4b89-95fa-ea4c02e9b236",
   "metadata": {},
   "source": [
    "3. 문제풀이"
   ]
  },
  {
   "cell_type": "code",
   "execution_count": 1,
   "id": "d1c29d66-0de4-466f-9a18-6ce31c4ba6b7",
   "metadata": {},
   "outputs": [
    {
     "data": {
      "text/plain": [
       "'*******4444'"
      ]
     },
     "execution_count": 1,
     "metadata": {},
     "output_type": "execute_result"
    }
   ],
   "source": [
    "# sol 1)\n",
    "\n",
    "def solution(phone_number):\n",
    "    return str(phone_number.replace(phone_number[:-4],'*'*len(phone_number[:-4])))    \n",
    "\n",
    "solution(\"01033334444\")"
   ]
  },
  {
   "cell_type": "code",
   "execution_count": 2,
   "id": "1fe91076-3195-4e38-ae43-06bc0fd642ee",
   "metadata": {},
   "outputs": [
    {
     "data": {
      "text/plain": [
       "'*******4444'"
      ]
     },
     "execution_count": 2,
     "metadata": {},
     "output_type": "execute_result"
    }
   ],
   "source": [
    "# sol 2)\n",
    "\n",
    "def solution(phone_number):\n",
    "    return '*'*(len(phone_number)-4) + phone_number[-4:]\n",
    "solution(\"01033334444\")"
   ]
  }
 ],
 "metadata": {
  "kernelspec": {
   "display_name": "Python 3 (ipykernel)",
   "language": "python",
   "name": "python3"
  },
  "language_info": {
   "codemirror_mode": {
    "name": "ipython",
    "version": 3
   },
   "file_extension": ".py",
   "mimetype": "text/x-python",
   "name": "python",
   "nbconvert_exporter": "python",
   "pygments_lexer": "ipython3",
   "version": "3.9.7"
  }
 },
 "nbformat": 4,
 "nbformat_minor": 5
}
