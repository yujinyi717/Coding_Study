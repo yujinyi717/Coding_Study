{
 "cells": [
  {
   "cell_type": "markdown",
   "id": "2ad1f427-1482-49f3-9ce8-20fc36fa97b3",
   "metadata": {},
   "source": [
    "1) 문제링크"
   ]
  },
  {
   "cell_type": "markdown",
   "id": "b9e6fe25-4213-4799-a3e1-6a2a1404a62d",
   "metadata": {},
   "source": [
    "- https://programmers.co.kr/learn/courses/30/lessons/82612"
   ]
  },
  {
   "cell_type": "markdown",
   "id": "8882613d-104d-44eb-ad02-02162dadb12e",
   "metadata": {},
   "source": [
    "2) 아이디어 정리"
   ]
  },
  {
   "cell_type": "markdown",
   "id": "e29e41fe-8263-47a5-b6c6-55ad2d4a58eb",
   "metadata": {},
   "source": [
    "- 등차수열의 개념 활용 : 등차 1일때, S = n(n+1)/2\n",
    "- 절대값 = 음수일 경우 0 리턴 : max(0,x),abs(0,x) 활용 "
   ]
  },
  {
   "cell_type": "markdown",
   "id": "b45be4b3-1c9d-4ec7-8eca-b02681033db2",
   "metadata": {},
   "source": [
    "3) 핵심개념"
   ]
  },
  {
   "cell_type": "markdown",
   "id": "24360f95-19af-4703-b1c1-813259284a9b",
   "metadata": {},
   "source": [
    "- sol 2) 산술평균을 활용한 풀이법 \n",
    "    - price X1 + price X2 + price X3 + price X4 + ... \n",
    "    - price X (1+ 2 + 3)\n",
    "    - (price x)(n)(n+1)/2"
   ]
  },
  {
   "cell_type": "markdown",
   "id": "02271a18-cca0-4694-a028-eb426a6d68a4",
   "metadata": {},
   "source": [
    "4) 문제풀이"
   ]
  },
  {
   "cell_type": "code",
   "execution_count": 1,
   "id": "e6385b96-efa8-4e49-9afc-3553f97fc6a4",
   "metadata": {},
   "outputs": [
    {
     "data": {
      "text/plain": [
       "10"
      ]
     },
     "execution_count": 1,
     "metadata": {},
     "output_type": "execute_result"
    }
   ],
   "source": [
    "# sol 1) \n",
    "\n",
    "def solution(price, money, count):\n",
    "    \n",
    "    # 1. 총 필요한 놀이기구의 이용 금액 구하기\n",
    "    answer = 0\n",
    "    for i in range(1,count+1):\n",
    "        answer += price*i\n",
    "    \n",
    "    # 2. 부족한 금액 구하기\n",
    "    answer -= money\n",
    "    \n",
    "    # 3. 금액이 부족하지 않으면 0 리턴\n",
    "    if answer <= 0:\n",
    "        return 0\n",
    "    \n",
    "    return answer\n",
    "\n",
    "solution(3,20,4)"
   ]
  },
  {
   "cell_type": "code",
   "execution_count": 2,
   "id": "025bf5c5-a16f-4938-92a7-8f52c41f6014",
   "metadata": {},
   "outputs": [
    {
     "data": {
      "text/plain": [
       "10"
      ]
     },
     "execution_count": 2,
     "metadata": {},
     "output_type": "execute_result"
    }
   ],
   "source": [
    "# sol 2) 반복되는 수 * 등차가 1인 수열의 합 \n",
    "\n",
    "def solution(price, money, count):\n",
    "    return max([price*count*(count+1)//2-money,0])\n",
    "\n",
    "solution(3,20,4)"
   ]
  },
  {
   "cell_type": "code",
   "execution_count": 3,
   "id": "14841a63-2df7-4619-ae62-1866896e5d84",
   "metadata": {},
   "outputs": [
    {
     "data": {
      "text/plain": [
       "10"
      ]
     },
     "execution_count": 3,
     "metadata": {},
     "output_type": "execute_result"
    }
   ],
   "source": [
    "# sol 3) 반복되는 급액의 합(리스트 컴프리헨션)\n",
    "\n",
    "def solution(price, money,count):\n",
    "    return max(sum(price*i for i in range(1,count+1))-money,0)\n",
    "\n",
    "solution(3,20,4)"
   ]
  },
  {
   "cell_type": "code",
   "execution_count": 4,
   "id": "115abab8-78ce-4b5f-a9c7-12188c01234e",
   "metadata": {},
   "outputs": [
    {
     "data": {
      "text/plain": [
       "10"
      ]
     },
     "execution_count": 4,
     "metadata": {},
     "output_type": "execute_result"
    }
   ],
   "source": [
    "# sol 4) abs 함수 활용\n",
    "\n",
    "def solution(price, money,count):\n",
    "    return abs(min(money - sum(price*i for i in range(1,count+1)),0))\n",
    "\n",
    "solution(3,20,4)"
   ]
  }
 ],
 "metadata": {
  "kernelspec": {
   "display_name": "Python 3 (ipykernel)",
   "language": "python",
   "name": "python3"
  },
  "language_info": {
   "codemirror_mode": {
    "name": "ipython",
    "version": 3
   },
   "file_extension": ".py",
   "mimetype": "text/x-python",
   "name": "python",
   "nbconvert_exporter": "python",
   "pygments_lexer": "ipython3",
   "version": "3.9.7"
  }
 },
 "nbformat": 4,
 "nbformat_minor": 5
}
