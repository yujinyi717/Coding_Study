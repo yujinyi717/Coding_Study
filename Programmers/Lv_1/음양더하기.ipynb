{
 "cells": [
  {
   "cell_type": "markdown",
   "id": "6f62a974-4964-46f4-9c3f-561bc12db095",
   "metadata": {},
   "source": [
    "1. 문제링크\n",
    "\n",
    "https://programmers.co.kr/learn/courses/30/lessons/76501"
   ]
  },
  {
   "cell_type": "markdown",
   "id": "382b9e92-f6c3-453f-b28c-18d7c6bbe1b1",
   "metadata": {},
   "source": [
    "2. 아이디어 정리\n",
    "\n",
    "- for 갯수, if와 elif 활용(else도 가능) -> answer에 더해주기\n",
    "- zip 활용\n",
    "- 주의, 문제는 소문자로 주어져있지만, BOOL형으로 대문자 기준으로 고려해주기 -> 파이썬 기준이기 때문 "
   ]
  },
  {
   "cell_type": "markdown",
   "id": "dee9d03b-1d32-443a-ae59-b089f6a5c3c0",
   "metadata": {},
   "source": [
    "3. 개념\n",
    "\n",
    "- zip\n",
    "    - format a,b in zip(absolutes, signs):\n",
    "- list comprehension\n",
    "    - for if 작성 (if문 여러개도 가능)-> 오른쪽\n",
    "        - [i for i in range(5) if i%2 ==0]\n",
    "    - for if + else 작성 -> 왼쪽 \n",
    "        - [ i if i%2 ==0 else 'odd' for i in range(5)]\n",
    "    -  참조 : https://bio-info.tistory.com/28"
   ]
  },
  {
   "cell_type": "markdown",
   "id": "3eab781d-1a06-43ea-b077-b49f3e76a5cd",
   "metadata": {},
   "source": [
    "3. 문제풀이"
   ]
  },
  {
   "cell_type": "code",
   "execution_count": 1,
   "id": "4667d854-1212-4d95-aae0-3f0033fabed5",
   "metadata": {},
   "outputs": [
    {
     "data": {
      "text/plain": [
       "9"
      ]
     },
     "execution_count": 1,
     "metadata": {},
     "output_type": "execute_result"
    }
   ],
   "source": [
    "# sol 1 )\n",
    "\n",
    "def solution(absolutes, signs):\n",
    "    answer = 0\n",
    "    for i in range(len(signs)):\n",
    "        if signs[i] == True :\n",
    "            answer += absolutes[i]\n",
    "        else:\n",
    "        # elif signs[i] == False : # elif도 가능 \n",
    "            answer -= absolutes[i]\n",
    "    \n",
    "    return answer\n",
    "\n",
    "solution([4,7,12],[True,False,True])"
   ]
  },
  {
   "cell_type": "code",
   "execution_count": 2,
   "id": "38237e73-010a-4362-9fdc-6a457643f1dc",
   "metadata": {},
   "outputs": [
    {
     "data": {
      "text/plain": [
       "9"
      ]
     },
     "execution_count": 2,
     "metadata": {},
     "output_type": "execute_result"
    }
   ],
   "source": [
    "# sol 2)\n",
    "\n",
    "def solution(absolutes, signs):\n",
    "    answer = 0\n",
    "    for absolute,sign in zip(absolutes, signs): # zip함수 사용 \n",
    "        if sign == True :\n",
    "            answer += absolute\n",
    "        else:\n",
    "            answer -= absolute\n",
    "    \n",
    "    return answer\n",
    "\n",
    "solution([4,7,12],[True,False,True])"
   ]
  },
  {
   "cell_type": "code",
   "execution_count": 3,
   "id": "7b514f93-4f35-4bdb-a45c-77a7e794a9c5",
   "metadata": {},
   "outputs": [
    {
     "data": {
      "text/plain": [
       "9"
      ]
     },
     "execution_count": 3,
     "metadata": {},
     "output_type": "execute_result"
    }
   ],
   "source": [
    "# sol 3) \n",
    "\n",
    "def solution(absolutes, signs):\n",
    "    answer = 0\n",
    "    for absolute,sign in zip(absolutes, signs):\n",
    "        if sign : # if = True 일경우 실행됨 \n",
    "            answer += absolute\n",
    "        else:\n",
    "            answer -= absolute\n",
    "    \n",
    "    return answer\n",
    "\n",
    "solution([4,7,12],[True,False,True])\n",
    "\n",
    "# 참조 : https://wikidocs.net/20"
   ]
  },
  {
   "cell_type": "code",
   "execution_count": 4,
   "id": "8d8d58df-8de4-4eb2-9470-31d3512bfc75",
   "metadata": {},
   "outputs": [
    {
     "data": {
      "text/plain": [
       "9"
      ]
     },
     "execution_count": 4,
     "metadata": {},
     "output_type": "execute_result"
    }
   ],
   "source": [
    "# sol 4)\n",
    "def solution(absolutes, signs):\n",
    "    return sum([absolute if sign==True else -absolute for absolute, sign in zip(absolutes, signs)]) # list 없어도 됌 \n",
    "\n",
    "solution([4,7,12],[True,False,True])"
   ]
  }
 ],
 "metadata": {
  "kernelspec": {
   "display_name": "Python 3 (ipykernel)",
   "language": "python",
   "name": "python3"
  },
  "language_info": {
   "codemirror_mode": {
    "name": "ipython",
    "version": 3
   },
   "file_extension": ".py",
   "mimetype": "text/x-python",
   "name": "python",
   "nbconvert_exporter": "python",
   "pygments_lexer": "ipython3",
   "version": "3.9.7"
  }
 },
 "nbformat": 4,
 "nbformat_minor": 5
}
