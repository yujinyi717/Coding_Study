{
 "cells": [
  {
   "cell_type": "markdown",
   "id": "1b042f3f-2213-4016-8519-c3b2f791837e",
   "metadata": {},
   "source": [
    "1. 문제링크\n",
    "- https://programmers.co.kr/learn/courses/30/lessons/12940"
   ]
  },
  {
   "cell_type": "markdown",
   "id": "1648f18a-bc34-42f2-8302-d3e63b895aaf",
   "metadata": {},
   "source": [
    "2. 아이디어\n",
    "- 패키지 사용 o \n",
    "    - math.gcd()\n",
    "- 패키지 사용 x\n",
    "    - gcd(a,b) = gcd(b,0) -> 이 경우에 b가 최대 공약수에 해당 \n",
    "    - lcm : 두수의 곱 / 최대공약수 "
   ]
  },
  {
   "cell_type": "markdown",
   "id": "066d1461-41c1-4554-96a6-452416f3ded5",
   "metadata": {},
   "source": [
    "3. 문제풀이"
   ]
  },
  {
   "cell_type": "code",
   "execution_count": 1,
   "id": "42d274de-5168-4241-b57d-ce3f68448e36",
   "metadata": {},
   "outputs": [
    {
     "data": {
      "text/plain": [
       "[3, 12]"
      ]
     },
     "execution_count": 1,
     "metadata": {},
     "output_type": "execute_result"
    }
   ],
   "source": [
    "# sol 1 ) 패키지 사용 o\n",
    "\n",
    "import math \n",
    "\n",
    "def solution(n, m):\n",
    "    # 최대공약수 \n",
    "    gcd = math.gcd(n,m)\n",
    "    # 최소공배수 \n",
    "    lcm = (n*m)//gcd   \n",
    "    \n",
    "    return [gcd,lcm] # list((gcd,lcm)) 로 괄호 꼭 넣어줄 것\n",
    "\n",
    "solution(3,12)"
   ]
  },
  {
   "cell_type": "code",
   "execution_count": 2,
   "id": "fe61d601-542a-4fce-b7f3-14f8a303b8dd",
   "metadata": {},
   "outputs": [
    {
     "data": {
      "text/plain": [
       "[3, 12]"
      ]
     },
     "execution_count": 2,
     "metadata": {},
     "output_type": "execute_result"
    }
   ],
   "source": [
    "# sol 2) 패키지 사용 x\n",
    "\n",
    "def solution(a,b): # 함수내에 함수를 또 넣기 ! \n",
    "    def gcd(a,b):\n",
    "        while b > 0:\n",
    "            a,b = b, a%b\n",
    "            return b\n",
    "\n",
    "    def lcm(a,b):\n",
    "        return (a*b)//gcd(a,b)\n",
    "    \n",
    "    return([gcd(a,b),lcm(a,b)])\n",
    "\n",
    "solution(3,12)"
   ]
  }
 ],
 "metadata": {
  "kernelspec": {
   "display_name": "Python 3 (ipykernel)",
   "language": "python",
   "name": "python3"
  },
  "language_info": {
   "codemirror_mode": {
    "name": "ipython",
    "version": 3
   },
   "file_extension": ".py",
   "mimetype": "text/x-python",
   "name": "python",
   "nbconvert_exporter": "python",
   "pygments_lexer": "ipython3",
   "version": "3.8.12"
  }
 },
 "nbformat": 4,
 "nbformat_minor": 5
}
