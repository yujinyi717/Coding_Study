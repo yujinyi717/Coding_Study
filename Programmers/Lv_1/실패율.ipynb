{
 "cells": [
  {
   "cell_type": "markdown",
   "id": "595768f9-0eb7-4bd9-9c02-f91367d21e31",
   "metadata": {},
   "source": [
    "1. 문제링크\n",
    "https://programmers.co.kr/learn/courses/30/lessons/42889"
   ]
  },
  {
   "cell_type": "markdown",
   "id": "1a342f6e-bab6-4825-9384-b4e2eab72599",
   "metadata": {},
   "source": [
    "2. 아이디어 정리\n",
    "\n",
    "- 실패율 딕셔너리로 정리하기 \n",
    "- 리스트의 특정 값을 count 하기 위해서는 count 사용 \n",
    "    - 즉, a_list.count(1) -> 1의 갯수 반환\n",
    "- 숫자를 하나씩 줄여주기 위해서는 맨 위에 변수 선언 후, 하나씩 줄이기\n",
    "- 딕셔너리의 value값 기준으로 정렬 \n",
    "    - 람다 함수 사용 \n",
    "    - sort의 기본은 오름차순 -> reverse 활용해서 내림차순 정렬 \n",
    "    - sorted(result, lambda = x : x[1], reverse = True)\n",
    "    \n",
    "- 마지막으로 예외 처리 "
   ]
  },
  {
   "cell_type": "markdown",
   "id": "d7d1b675-45c6-400d-862d-cb0cd132f13a",
   "metadata": {},
   "source": [
    "3. 사용된 개념\n",
    "\n",
    "- 딕셔너리\n",
    "- 리스트의 count\n",
    "- sorted \n",
    "- lambda"
   ]
  },
  {
   "cell_type": "markdown",
   "id": "2ec0ed11-35ff-4001-8499-2c27978c1dc3",
   "metadata": {},
   "source": [
    "4. 문제풀이"
   ]
  },
  {
   "cell_type": "code",
   "execution_count": 2,
   "id": "483b23a0-88e3-456a-87c4-e94c128cf18f",
   "metadata": {},
   "outputs": [
    {
     "data": {
      "text/plain": [
       "[3, 4, 2, 1, 5]"
      ]
     },
     "execution_count": 2,
     "metadata": {},
     "output_type": "execute_result"
    }
   ],
   "source": [
    "def solution(N,stages):\n",
    "    # 1. 딕셔너리 선언\n",
    "    dic = {}\n",
    "    # 2. 실패율 구하기\n",
    "    play_num = len(stages)\n",
    "    for i in range(1,N+1):\n",
    "        # 마지막 스테이지에 도달한 유저가 없는 경우. 예외 처리 \n",
    "        if play_num == 0 :\n",
    "            dic[i] = 0\n",
    "        else : \n",
    "            dic[i] = stages.count(i)/play_num\n",
    "            play_num -= stages.count(i)\n",
    "    # 3. 실패율 value값 기준으로 정렬 \n",
    "    result = sorted(dic.items(), key = lambda x : x[1], reverse = True)\n",
    "    # 4. key값만 리스트에 출력 \n",
    "    answer = [ i[0] for i in result ]\n",
    "    return answer\n",
    "\n",
    "solution(5,[2, 1, 2, 6, 2, 4, 3, 3])"
   ]
  },
  {
   "cell_type": "markdown",
   "id": "74d6c5ca-9ce9-427c-9508-a958f343ed0e",
   "metadata": {},
   "source": [
    "5. 문제풀이 링크 \n",
    "\n",
    "https://www.youtube.com/watch?v=_6cYAfiOSlk"
   ]
  }
 ],
 "metadata": {
  "kernelspec": {
   "display_name": "Python 3 (ipykernel)",
   "language": "python",
   "name": "python3"
  },
  "language_info": {
   "codemirror_mode": {
    "name": "ipython",
    "version": 3
   },
   "file_extension": ".py",
   "mimetype": "text/x-python",
   "name": "python",
   "nbconvert_exporter": "python",
   "pygments_lexer": "ipython3",
   "version": "3.9.7"
  }
 },
 "nbformat": 4,
 "nbformat_minor": 5
}
