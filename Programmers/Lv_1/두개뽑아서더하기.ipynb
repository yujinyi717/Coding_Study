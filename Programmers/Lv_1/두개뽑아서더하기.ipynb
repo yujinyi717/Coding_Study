{
 "cells": [
  {
   "cell_type": "markdown",
   "id": "8b635bdb-bfeb-4bfd-ab0c-33824bf120ec",
   "metadata": {},
   "source": [
    "1. 문제 링크\n",
    "- https://programmers.co.kr/learn/courses/30/lessons/68644"
   ]
  },
  {
   "cell_type": "markdown",
   "id": "9a54e7e4-0fe2-470a-88a8-bf5241df6e3a",
   "metadata": {},
   "source": [
    "2. 아이디어\n",
    "- 1. 숫자 하나씩 꺼내기 ( 이중 for문 -> 인덱스만 출력 -> 출력한 뒤에 마지막줄에서 계산 및 append)\n",
    "- 2. set -> sorted\n",
    "- [참고]들어가야 하는 숫자 순서 \n",
    "    - 0,1 / 0,2 / 0,3 / 0,4\n",
    "    - 1,2 / 1,3 / 1,4\n",
    "    - 2.3 / 2.4\n",
    "    \n"
   ]
  },
  {
   "cell_type": "markdown",
   "id": "2afb0030-1992-48f8-8c10-c3178525c6c7",
   "metadata": {},
   "source": [
    "3. 문제 풀이"
   ]
  },
  {
   "cell_type": "code",
   "execution_count": 34,
   "id": "af40ffb4-6338-4893-9a8e-82c3d452f7e0",
   "metadata": {},
   "outputs": [
    {
     "data": {
      "text/plain": [
       "[2, 3, 4, 5, 6, 7]"
      ]
     },
     "execution_count": 34,
     "metadata": {},
     "output_type": "execute_result"
    }
   ],
   "source": [
    "# sol 1)\n",
    "def solution(numbers):\n",
    "    result = []\n",
    "    for i in range(len(numbers)): # 주의! len 빼먹지 않기!\n",
    "        for j in range(1+i,len(numbers)): # 1 + i가 핵심! \n",
    "            num_sum = numbers[i] + numbers[j]\n",
    "            result.append(num_sum)\n",
    "    return sorted(set(result))\n",
    "\n",
    "solution([2,1,3,4,1])"
   ]
  },
  {
   "cell_type": "code",
   "execution_count": 35,
   "id": "d259cefe-cdd0-4798-adb0-3ab80d9c58cd",
   "metadata": {},
   "outputs": [
    {
     "data": {
      "text/plain": [
       "[2, 3, 4, 5, 6, 7]"
      ]
     },
     "execution_count": 35,
     "metadata": {},
     "output_type": "execute_result"
    }
   ],
   "source": [
    "# sol 1-1)\n",
    "def solution(numbers):\n",
    "    result = []\n",
    "    for i in range(len(numbers)):\n",
    "        for j in range(i+1,len(numbers)):\n",
    "            num_sum = numbers[i] + numbers[j]\n",
    "            \n",
    "            if num_sum in result:\n",
    "                continue\n",
    "            else: # elif는 안됌! 마지막은 else로 끝내기\n",
    "                result.append(num_sum)\n",
    "    return sorted(result)\n",
    "\n",
    "solution([2,1,3,4,1])"
   ]
  },
  {
   "cell_type": "code",
   "execution_count": 36,
   "id": "c5ce96bb-7d10-4765-b3e7-b71c2f81ce02",
   "metadata": {},
   "outputs": [
    {
     "data": {
      "text/plain": [
       "[2, 3, 4, 5, 6, 7]"
      ]
     },
     "execution_count": 36,
     "metadata": {},
     "output_type": "execute_result"
    }
   ],
   "source": [
    "# sol 1-2) list comprehension 사용\n",
    "def solution(numbers):\n",
    "    return sorted({ (numbers[i] + numbers[j])  for i in range(len(numbers)) for j in range(i+1,len(numbers)) }) # 앞에 있는게 맨 위에 있는 것, 뒤에 있는거는 안에 있는 것 \n",
    "\n",
    "solution([2,1,3,4,1])"
   ]
  },
  {
   "cell_type": "code",
   "execution_count": 37,
   "id": "308d4859-7825-4783-b357-2f7aa559dcd3",
   "metadata": {},
   "outputs": [
    {
     "data": {
      "text/plain": [
       "[2, 3, 4, 5, 6, 7]"
      ]
     },
     "execution_count": 37,
     "metadata": {},
     "output_type": "execute_result"
    }
   ],
   "source": [
    "# sol 2) 크기를 비교해서 사용\n",
    "def solution(numbers):\n",
    "    result = []\n",
    "    for i in range(len(numbers)):\n",
    "        for j in range(len(numbers)):\n",
    "            if i < j :\n",
    "                result.append(numbers[i] + numbers[j])\n",
    "    return sorted(set(result))\n",
    "\n",
    "solution([2,1,3,4,1])"
   ]
  },
  {
   "cell_type": "code",
   "execution_count": 38,
   "id": "a0aa06f1-daf6-4080-845d-9e9d8d095c08",
   "metadata": {},
   "outputs": [
    {
     "data": {
      "text/plain": [
       "[2, 3, 4, 5, 6, 7]"
      ]
     },
     "execution_count": 38,
     "metadata": {},
     "output_type": "execute_result"
    }
   ],
   "source": [
    "# sol 2-1) list comprehension 사용 \n",
    "def solution(numbers):\n",
    "    return sorted({numbers[i] + numbers[j] for i in range(len(numbers)) for j in range(len(numbers)) if i<j})\n",
    "solution([2,1,3,4,1])"
   ]
  },
  {
   "cell_type": "code",
   "execution_count": 39,
   "id": "359056a7-9db7-48cf-b7b7-8cdbcd96ceb2",
   "metadata": {},
   "outputs": [
    {
     "data": {
      "text/plain": [
       "[2, 3, 4, 5, 6, 7]"
      ]
     },
     "execution_count": 39,
     "metadata": {},
     "output_type": "execute_result"
    }
   ],
   "source": [
    "# sol 3) 조합 패키지 활용 \n",
    "\n",
    "from itertools import combinations\n",
    "def solution(numbers):\n",
    "    return sorted(set(sum(i) for i in list(combinations(numbers, 2))))\n",
    "\n",
    "solution([2,1,3,4,1])"
   ]
  }
 ],
 "metadata": {
  "kernelspec": {
   "display_name": "Python 3 (ipykernel)",
   "language": "python",
   "name": "python3"
  },
  "language_info": {
   "codemirror_mode": {
    "name": "ipython",
    "version": 3
   },
   "file_extension": ".py",
   "mimetype": "text/x-python",
   "name": "python",
   "nbconvert_exporter": "python",
   "pygments_lexer": "ipython3",
   "version": "3.8.12"
  }
 },
 "nbformat": 4,
 "nbformat_minor": 5
}
