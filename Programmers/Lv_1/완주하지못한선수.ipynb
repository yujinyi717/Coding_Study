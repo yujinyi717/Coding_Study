{
 "cells": [
  {
   "cell_type": "markdown",
   "id": "dd2aa50a-5b3f-4108-a3b5-435d8b2bd3b5",
   "metadata": {},
   "source": [
    "1) 문제링크"
   ]
  },
  {
   "cell_type": "markdown",
   "id": "8b5703f4-99b3-4608-8224-496f1ebf9df9",
   "metadata": {},
   "source": [
    "- https://programmers.co.kr/learn/courses/30/lessons/42576"
   ]
  },
  {
   "cell_type": "markdown",
   "id": "32d6e45d-eb7d-4bc0-8f68-fa4b7b2e23e5",
   "metadata": {},
   "source": [
    "2) 아이디어"
   ]
  },
  {
   "cell_type": "markdown",
   "id": "b2996a52-eb9b-4c54-94d8-14c56cf20627",
   "metadata": {},
   "source": [
    "- SOL 1) \n",
    "- 각각의 Counter() 함수 사용 후, 빼는 값 출력 \n",
    "\n",
    "\n",
    "- SOL 2) \n",
    "- sort(), 리스트 값 비교, 리스트 다 돈 후에 값 출력  -> FOR IN 사용 \n",
    "- 값 정렬 -> (적은) 인덱스를 기준으로 각각의 인덱스 값 비교 후, (많은)다른 값에 해당하는 값 출력 -> 리스트를 다 돌아도 없을 경우, (많은)마지막 값 출력\n",
    "\n",
    "- SOL 3) \n",
    "- 해시 개념 사용 \n",
    "\n",
    "\n"
   ]
  },
  {
   "cell_type": "markdown",
   "id": "6dd76ccc-89ed-4e33-8da0-e35875cb45c3",
   "metadata": {},
   "source": [
    "3) 핵심 및 개념"
   ]
  },
  {
   "cell_type": "markdown",
   "id": "9c1ea11c-7606-43f8-9c36-df77f655f665",
   "metadata": {},
   "source": [
    "- SOL 1) \n",
    "- collections.Counter()는 값과 개수를 반환 ex) Counter({'mislav': 2, 'stanko': 1, 'ana': 1})\n",
    "- 딕셔너리에서 key의 내부의 값을 꺼내기 위해 - list변환 후, [0]번으로 내부의 문자열만 추출 \n",
    "\n",
    "- SOL 2) \n",
    "- a = sorted(a) , a.sort() 두개가 같음! 헷갈리지 말자 !\n",
    "- 문자열 더할 경우 : a = '' / a += str('bbb') -> 숫자 더하는 것 처럼 더하기 \n",
    "\n",
    "- SOL 3)\n",
    "- 해시 개념 : 파이썬 딕셔너리 안에서 key값을 빠르게 찾기 위해서 사용 \n",
    "- 해시맵 생성 : 해시에서 임의의 key 값 생성, value는 선수들 이름으로 생성 \n",
    "- 1. hash & sum : hash를 key로 갖고, participant의 이름을 value로 갖는 dictionary를 만들기 합을 구함 \n",
    "- 2. hash 빼기 : 합에서 completion의 hash들의 합을 뺀다.\n",
    "- 3. 마지막주자 : 마지막에 남은 hash가 완주하지 못한 선수의 hash에 해당 "
   ]
  },
  {
   "cell_type": "markdown",
   "id": "c0a57175-2240-4d80-8c6f-becaec9b7401",
   "metadata": {},
   "source": [
    "4. 문제풀이"
   ]
  },
  {
   "cell_type": "code",
   "execution_count": 1,
   "id": "420380ac-e3b2-4254-bc5a-555fcd909a4c",
   "metadata": {},
   "outputs": [
    {
     "data": {
      "text/plain": [
       "'mislav'"
      ]
     },
     "execution_count": 1,
     "metadata": {},
     "output_type": "execute_result"
    }
   ],
   "source": [
    "# SOL 1) collections.Counter(list) 함수 이용 \n",
    "\n",
    "from collections import Counter\n",
    "\n",
    "def solution(participant, completion): \n",
    "    # 1. participant의 Counter를 구하기\n",
    "    # 2. completion의 Counter를 구하기\n",
    "    # 3. 둘의 차를 구하면 정답만 남아있는 counter를 반환 ( 값과 갯수 반환 )\n",
    "    answer = Counter(participant) - Counter(completion) \n",
    "    # 4. counter의 key값을 반환한다 ( key값을 위해서는 , list로 바꾸고 내부 [0] 값 추출 )\n",
    "    return list(answer.keys())[0]\n",
    "\n",
    "solution([\"mislav\", \"stanko\", \"mislav\", \"ana\"] , [\"stanko\", \"ana\", \"mislav\"])\n"
   ]
  },
  {
   "cell_type": "code",
   "execution_count": 2,
   "id": "255ea15b-7e86-4301-bf09-a142db80f171",
   "metadata": {},
   "outputs": [
    {
     "data": {
      "text/plain": [
       "'mislav'"
      ]
     },
     "execution_count": 2,
     "metadata": {},
     "output_type": "execute_result"
    }
   ],
   "source": [
    "# SOL 2) sort, loop 사용 \n",
    "\n",
    "def solution(participant, completion):\n",
    "    \n",
    "    # 1. participant, completion 모두 정렬 : sorted(list) 또는 list.sort()\n",
    "    participant.sort()\n",
    "    completion.sort()\n",
    "    \n",
    "    # 2. 각각의 리스트의 값을 차례로 비교후, 값이 다를 경우 participant 출력 \n",
    "    answer = ''\n",
    "    for i in range(len(completion)):\n",
    "        if participant[i] != completion[i] : \n",
    "            answer += str(participant[i])\n",
    "            \n",
    "    # 3. 마지막 위치에 해당하는 participant의 값을 출력할 경우\n",
    "    if answer == '' :\n",
    "        answer += str(participant[-1])\n",
    "    \n",
    "    return answer \n",
    "\n",
    "solution([\"mislav\", \"stanko\", \"mislav\", \"ana\"] , [\"stanko\", \"ana\", \"mislav\"])\n",
    "# solution([\"marina\", \"josipa\", \"nikola\", \"vinko\", \"filipa\"] , [\"josipa\", \"filipa\", \"marina\", \"nikola\"])\n",
    "# solution([\"leo\", \"kiki\", \"eden\"], [\"eden\", \"kiki\"])\n",
    "\n",
    "# 이렇게 짜면, participant의 동명이인도 결승을 통과한 사람과의 동일한 사람과는 다름 => 고려안해도 됌 \n"
   ]
  },
  {
   "cell_type": "code",
   "execution_count": 3,
   "id": "19d585ed-09a7-405d-9a0f-fe01a51c0ae9",
   "metadata": {},
   "outputs": [
    {
     "data": {
      "text/plain": [
       "'mislav'"
      ]
     },
     "execution_count": 3,
     "metadata": {},
     "output_type": "execute_result"
    }
   ],
   "source": [
    "# SOL 3) \n",
    "def solution(participant, completion):\n",
    "    hashDict = {}\n",
    "    sumHash = 0\n",
    "    # 1. participant list의 hash를 구하고, hash 값을 더함 \n",
    "    for part in participant:\n",
    "        hashDict[hash(part)] = part \n",
    "        sumHash += hash(part)\n",
    "        \n",
    "    # 2. completion list의 hash를 빼줌 \n",
    "    for comp in completion:\n",
    "        sumHash -= hash(comp)\n",
    "        \n",
    "    # 3. 남은 값이 완주하지 못한 선수의 hash값이 됨\n",
    "    return hashDict[sumHash]\n",
    "\n",
    "solution([\"mislav\", \"stanko\", \"mislav\", \"ana\"] , [\"stanko\", \"ana\", \"mislav\"])"
   ]
  }
 ],
 "metadata": {
  "kernelspec": {
   "display_name": "Python 3 (ipykernel)",
   "language": "python",
   "name": "python3"
  },
  "language_info": {
   "codemirror_mode": {
    "name": "ipython",
    "version": 3
   },
   "file_extension": ".py",
   "mimetype": "text/x-python",
   "name": "python",
   "nbconvert_exporter": "python",
   "pygments_lexer": "ipython3",
   "version": "3.9.7"
  }
 },
 "nbformat": 4,
 "nbformat_minor": 5
}
