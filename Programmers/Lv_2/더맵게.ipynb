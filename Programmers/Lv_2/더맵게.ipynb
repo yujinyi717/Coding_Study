{
 "cells": [
  {
   "cell_type": "markdown",
   "id": "232d4fb5-873a-42c2-8aec-63da906da6e8",
   "metadata": {},
   "source": [
    "1. 문제 링크\n",
    "- https://programmers.co.kr/learn/courses/30/lessons/42888"
   ]
  },
  {
   "cell_type": "markdown",
   "id": "f3552cac-01ec-4a56-805f-6573a197c857",
   "metadata": {},
   "source": [
    "2. 아이디어\n",
    "\n",
    "\n",
    "- 리스트 내에 모든 수가 K 이상이어야 함 -> min(list) > K  또는 a.sort() 후에 a[0] < K 사용 하면 됌 \n",
    "- K 이상이 나올때까지 반복 -> while 문 사용 \n",
    "- 모든 리스트에 대해 K 이상이 만들어 지지 않을 때 -> try, except 사용 / IndexError 일 경우 -1 리턴 \n"
   ]
  },
  {
   "cell_type": "markdown",
   "id": "5175b1e6-87af-42cc-917a-a6d7541cb58e",
   "metadata": {},
   "source": [
    "3. 필요 개념"
   ]
  },
  {
   "cell_type": "markdown",
   "id": "7d460d5b-c0b7-4259-aae2-ade9a077c290",
   "metadata": {
    "tags": []
   },
   "source": [
    "### sorted(a)와 a.sort() 개념차이\n",
    "- sorted(a) 는 a가 나열된 결과만 출력 \n",
    "- a.sort() 는 순차적으로 나열된 a의 결과가 저장되는 것 "
   ]
  },
  {
   "cell_type": "markdown",
   "id": "bb98eca0-193a-47ec-a0da-192f976c53c5",
   "metadata": {},
   "source": [
    "### pop 차이\n",
    "- a.pop(0)은 하나가 제거 \n",
    "- 그 다음것을 제거할 때도, a.pop(0) 동일하게 사용 "
   ]
  },
  {
   "cell_type": "markdown",
   "id": "54069ec1-c87d-4223-a477-e208f4b7eb9e",
   "metadata": {},
   "source": [
    "### heap 개념 "
   ]
  },
  {
   "cell_type": "code",
   "execution_count": 1,
   "id": "538d82fe-e00f-48b5-ab2b-975f500c4a3c",
   "metadata": {},
   "outputs": [
    {
     "name": "stdout",
     "output_type": "stream",
     "text": [
      "[2, 4, 3]\n",
      "[3, 4]\n",
      "3\n",
      "[1, 3, 5, 4, 8, 7]\n"
     ]
    }
   ],
   "source": [
    "### heapq 모듈 설명 \n",
    "import heapq\n",
    "\n",
    "heap = []\n",
    "# 힙에 원소 추가 \n",
    "heapq.heappush(heap,4)\n",
    "heapq.heappush(heap,3)\n",
    "heapq.heappush(heap,2)\n",
    "print(heap)\n",
    "\n",
    "# 힙에서 원소 삭제 (pop과 마찬가지로 앞에서 부터 제거 )\n",
    "heapq.heappop(heap)\n",
    "print(heap)\n",
    "\n",
    "# 최소값 삭제하지 않고 얻기 \n",
    "print(heap[0])\n",
    "\n",
    "# 기존 리스트를 힙으로 변환 \n",
    "li = [4, 1, 7, 3, 8, 5]\n",
    "heapq.heapify(li)\n",
    "print(li)"
   ]
  },
  {
   "cell_type": "markdown",
   "id": "afb1f342-0c37-49f3-b243-9a7c911664ea",
   "metadata": {},
   "source": [
    "4. 내 문제풀이"
   ]
  },
  {
   "cell_type": "code",
   "execution_count": 2,
   "id": "8e097e91-74a3-4777-934f-1c2a6a698e6c",
   "metadata": {},
   "outputs": [
    {
     "name": "stdout",
     "output_type": "stream",
     "text": [
      "3\n"
     ]
    }
   ],
   "source": [
    "# sol 1 ) -> 시간초과\n",
    "\n",
    "def solution(scoville, K):\n",
    "    answer = 0\n",
    "    scoville.sort()\n",
    "    try:\n",
    "        while scoville[0] < K :\n",
    "            scoville.insert(0,scoville.pop(0) + scoville.pop(0)*2)\n",
    "            scoville.sort()\n",
    "            answer += 1\n",
    "    except IndexError:\n",
    "        return -1\n",
    "\n",
    "    return answer\n",
    "        \n",
    "print(solution([1, 2, 3, 9, 10, 12],10))"
   ]
  },
  {
   "cell_type": "code",
   "execution_count": 3,
   "id": "6aa58d1c-cacd-4ceb-95be-7aa2ca5b3270",
   "metadata": {},
   "outputs": [
    {
     "name": "stdout",
     "output_type": "stream",
     "text": [
      "2\n"
     ]
    }
   ],
   "source": [
    "# sol 2) -> 시간초과 \n",
    "\n",
    "def solution(scoville, K):\n",
    "    answer = 0\n",
    "    try:\n",
    "        while min(scoville) < K :\n",
    "            scoville.sort()\n",
    "            scoville.insert(0,scoville.pop(0)+scoville.pop(0)*2)\n",
    "            answer += 1\n",
    "    except IndexError:\n",
    "        return -1\n",
    "    \n",
    "    return answer\n",
    "\n",
    "print(solution([1, 2, 3, 9, 10, 12],7))"
   ]
  },
  {
   "cell_type": "markdown",
   "id": "ee263282-e913-48e6-bc26-f18fedaf5f2a",
   "metadata": {},
   "source": [
    "5. 효율성 문제풀이 "
   ]
  },
  {
   "cell_type": "markdown",
   "id": "b2105418-f0b8-4a1e-b3ce-04ed8643b6a3",
   "metadata": {},
   "source": [
    "- sort()로 인해 효율성 저하 -> heaqp를 통해 효율성 개선 가능 "
   ]
  },
  {
   "cell_type": "code",
   "execution_count": 4,
   "id": "fb2f256b-d5ed-41b0-99d3-cfd5cfb56482",
   "metadata": {},
   "outputs": [
    {
     "name": "stdout",
     "output_type": "stream",
     "text": [
      "2\n"
     ]
    }
   ],
   "source": [
    "import heapq\n",
    "\n",
    "def solution(scoville, K):\n",
    "    answer = 0\n",
    "    heapq.heapify(scoville) # 리스트를 힙으로 변환 \n",
    "    try:\n",
    "        while scoville[0] < K :\n",
    "            # scoville은 sort과정을 사용 x 됌 -> 자동으로 heapq에서 정렬해줌 \n",
    "            heapq.heappush(scoville, heapq.heappop(scoville) + heapq.heappop(scoville)*2) \n",
    "            answer += 1\n",
    "    except IndexError:\n",
    "        return -1\n",
    "\n",
    "    return answer\n",
    "\n",
    "print(solution([1, 2, 3, 9, 10, 12],7))"
   ]
  }
 ],
 "metadata": {
  "kernelspec": {
   "display_name": "Python 3 (ipykernel)",
   "language": "python",
   "name": "python3"
  },
  "language_info": {
   "codemirror_mode": {
    "name": "ipython",
    "version": 3
   },
   "file_extension": ".py",
   "mimetype": "text/x-python",
   "name": "python",
   "nbconvert_exporter": "python",
   "pygments_lexer": "ipython3",
   "version": "3.8.12"
  }
 },
 "nbformat": 4,
 "nbformat_minor": 5
}
