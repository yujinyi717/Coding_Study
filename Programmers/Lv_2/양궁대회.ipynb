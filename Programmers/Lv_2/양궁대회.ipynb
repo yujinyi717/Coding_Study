{
 "cells": [
  {
   "cell_type": "markdown",
   "id": "741396d2-ac5f-4a79-a453-e226499c0c5d",
   "metadata": {},
   "source": [
    "1. 문제 링크\n",
    "- https://programmers.co.kr/learn/courses/30/lessons/92342"
   ]
  },
  {
   "cell_type": "markdown",
   "id": "36cdd5e5-6f34-4ffc-96b5-9224856e5bf3",
   "metadata": {},
   "source": [
    "2. 문제 요약\n",
    "- 라이언 저번 양궁대회 우승자, 이번대회 결승\n",
    "- 결승 : 라이언 VS 어피치 \n",
    "- 라이언 불리함 \n",
    "    - 1.어피치 n발 쏘기 -> 라이언 n발 쏘기\n",
    "    - 2. 점수 계산하기\n",
    "        - a < b 일경우 b발을 맞힌 선수가 k점을 가져감 ( k점만 가져감, 중복 아냐 )\n",
    "        - a = b = 0일 경우, 누구도 안 가져감 / k = 0\n",
    "        - 단, 동일한 발수를 맞힐경우, 어피치가 k점 가져감\n",
    "        - 모든 과녁에 대한 최종 합 \n",
    "- 현재상황\n",
    "    - 라이언 쏠 차례( 어피치 이미 함 )\n",
    "    - 화살의 개수를 담은 자연수 n\n",
    "    - 정수배열(점수) = info(0점 - 10점)\n",
    "    \n",
    "- 라이언이 가장 큰 점수차이로 우승 원함 \n",
    "    - n발의 화살을 어떤 과녁 점수에 맞춰야 하는지 10점 - 0점까지 순서대로 정수 배열에 담기, 리턴 -> solution함수 완성\n",
    "    - 만약, 라이언이 우승할 수 없는 경우(무조건 지거나 비기는 경우) [-1]을 리턴"
   ]
  },
  {
   "cell_type": "markdown",
   "id": "937b8546-641d-4c72-9d6e-d6ee3232cea3",
   "metadata": {},
   "source": [
    "3. 아이디어\n",
    "- 중복조합으로 라이언이 쏘는 경우의 수 만들기\n",
    "- 라이언과 어피치의 점수 비교하기\n",
    "- 최종 점수가 높은 선수를 우승자로 결정 "
   ]
  },
  {
   "cell_type": "markdown",
   "id": "948afd1d-ba46-45ad-b667-83da7cf53283",
   "metadata": {},
   "source": [
    "4. 참고 개념 "
   ]
  },
  {
   "cell_type": "code",
   "execution_count": 9,
   "id": "435dcf1e-1ca2-4df3-a506-dd1cfa6b5b72",
   "metadata": {},
   "outputs": [
    {
     "name": "stdout",
     "output_type": "stream",
     "text": [
      "('a', 'a')\n",
      "('a', 'b')\n",
      "('a', 'c')\n",
      "('b', 'b')\n",
      "('b', 'c')\n",
      "('c', 'c')\n"
     ]
    }
   ],
   "source": [
    "# 중복 조합 코드 \n",
    "from itertools import combinations_with_replacement\n",
    "\n",
    "ch = ['a','b','c']\n",
    "\n",
    "for i in combinations_with_replacement(ch,2):\n",
    "    print(i)"
   ]
  },
  {
   "cell_type": "markdown",
   "id": "f90f1387-748f-48aa-9063-884b623f2dea",
   "metadata": {},
   "source": [
    "generator와 iterator의 차이 ( 2,3번 참고 )\n",
    "- http://pythonstudy.xyz/python/article/23-Iterator%EC%99%80-Generator\n",
    "- iterator의 경우 next()를 사용해서 출력 "
   ]
  },
  {
   "cell_type": "code",
   "execution_count": 12,
   "id": "6b6b36e4-93fd-4b66-9f0f-ed487dfe3b69",
   "metadata": {},
   "outputs": [
    {
     "data": {
      "text/plain": [
       "[<itertools.combinations_with_replacement at 0x1f0d28f8ef0>]"
      ]
     },
     "execution_count": 12,
     "metadata": {},
     "output_type": "execute_result"
    }
   ],
   "source": [
    "# iterator \n",
    "[combinations_with_replacement(range(0,11),10)]"
   ]
  },
  {
   "cell_type": "code",
   "execution_count": 14,
   "id": "f8023cad-0396-4ea9-86b0-7eead5cbde5a",
   "metadata": {},
   "outputs": [
    {
     "data": {
      "text/plain": [
       "[(0, 0, 0, 0, 0, 0, 0, 0, 0, 0),\n",
       " (0, 0, 0, 0, 0, 0, 0, 0, 0, 1),\n",
       " (0, 0, 0, 0, 0, 0, 0, 0, 0, 2)]"
      ]
     },
     "execution_count": 14,
     "metadata": {},
     "output_type": "execute_result"
    }
   ],
   "source": [
    "# generator\n",
    "list(combinations_with_replacement(range(0,11),10))[:3]"
   ]
  },
  {
   "cell_type": "markdown",
   "id": "f0a097f1-1bbe-4903-a8d7-8d284fa8b758",
   "metadata": {},
   "source": [
    "5. 문제풀이"
   ]
  },
  {
   "cell_type": "code",
   "execution_count": 7,
   "id": "a46ce327-b379-401a-a7d7-3cc180ccf4a3",
   "metadata": {},
   "outputs": [
    {
     "data": {
      "text/plain": [
       "[0, 2, 2, 0, 1, 0, 0, 0, 0, 0, 0]"
      ]
     },
     "execution_count": 7,
     "metadata": {},
     "output_type": "execute_result"
    }
   ],
   "source": [
    "from itertools import combinations_with_replacement\n",
    "\n",
    "def solution(n, info):\n",
    "    # 1. 중복조합으로 라이언이 쏘는 경우의 수 만들기 \n",
    "    answer = [0 for _ in range(0,11)]\n",
    "    win = False\n",
    "    max_num = 0\n",
    "    for res in list(combinations_with_replacement(range(0,11),n)):\n",
    "        # print(res)\n",
    "        lion_l = [0 for _ in range(0,11)]\n",
    "        for r in res :\n",
    "            lion_l[10 - r] += 1 ### lion_l의 총합이 n이 되도록 만들어야 함 -> 이 부분의 아이디어 중요 \n",
    "        # 2. 라이언 점수와 어피치 점수를 비교    \n",
    "        # print(lion_l)\n",
    "        lion = 0\n",
    "        peach = 0\n",
    "        for i, (l,p) in enumerate(zip(lion_l,info)):\n",
    "            if l == p == 0 :\n",
    "                continue\n",
    "            elif l <= p :\n",
    "                peach += (10 - i)\n",
    "            elif l > p :\n",
    "                lion += (10 - i)\n",
    "        # 3. 총 점수를 비교해 라이언이 큰 경우 결과의 업데이트 진행 \n",
    "        if lion > peach :\n",
    "            win = True\n",
    "            if (lion - peach) > max_num :\n",
    "                max_num = lion - peach\n",
    "                answer = lion_l\n",
    "    if not win:\n",
    "        return [-1]\n",
    "    return answer\n",
    "\n",
    "solution(5, [2,1,1,1,0,0,0,0,0,0,0])        "
   ]
  }
 ],
 "metadata": {
  "kernelspec": {
   "display_name": "Python 3 (ipykernel)",
   "language": "python",
   "name": "python3"
  },
  "language_info": {
   "codemirror_mode": {
    "name": "ipython",
    "version": 3
   },
   "file_extension": ".py",
   "mimetype": "text/x-python",
   "name": "python",
   "nbconvert_exporter": "python",
   "pygments_lexer": "ipython3",
   "version": "3.8.12"
  }
 },
 "nbformat": 4,
 "nbformat_minor": 5
}
