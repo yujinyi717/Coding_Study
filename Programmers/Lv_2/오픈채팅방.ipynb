{
 "cells": [
  {
   "cell_type": "markdown",
   "id": "b38f1eb8-ed22-4f5f-ad7b-ba8d6a369880",
   "metadata": {},
   "source": [
    "1. 문제 링크\n",
    "- https://programmers.co.kr/learn/courses/30/lessons/42888"
   ]
  },
  {
   "cell_type": "markdown",
   "id": "032a5086-4a5c-46d1-8498-291062e884f6",
   "metadata": {},
   "source": [
    "2. 아이디어 정리 및 개념 \n",
    "\n",
    "- 1. dictionary에 key, value값을 각각 저장 \n",
    "- 2. 출력해주는 부분에서 위의 dictoionary에서 출력한 key에 따른 값을 출력"
   ]
  },
  {
   "cell_type": "markdown",
   "id": "04940a16-e067-460a-9ec0-ef30e59e6647",
   "metadata": {},
   "source": [
    "- 핵심 key point ! \n",
    "- 언제 key가 바뀌는지를 알아야 함! => 즉, Leave의 경우만 제외 하면 됌 ( Leave의 경우는 2개 이기 때문에 제외 ) \n",
    "- 첫 번째 풀이 : split()의 갯수가 3개 일때 바뀜  # 고려사향 : 최종적으로 변경된 아이디가 화면에 출력되면 되기 때문에 닉네임이 change되는 과정은 고려하지 않아도 됌 \n",
    "- 두 번째 풀이 : Enter, Change 일 때 바뀜 "
   ]
  },
  {
   "cell_type": "markdown",
   "id": "0ba4a634-d2ad-438f-b3ab-ffd5e67757b2",
   "metadata": {},
   "source": [
    "3. 문제 풀이"
   ]
  },
  {
   "cell_type": "code",
   "execution_count": 1,
   "id": "179a7759-d943-4aa5-8507-5144962df1d4",
   "metadata": {},
   "outputs": [
    {
     "data": {
      "text/plain": [
       "['Prodo님이 들어왔습니다.', 'Ryan님이 들어왔습니다.', 'Prodo님이 나갔습니다.', 'Prodo님이 들어왔습니다.']"
      ]
     },
     "execution_count": 1,
     "metadata": {},
     "output_type": "execute_result"
    }
   ],
   "source": [
    "def solution(record):\n",
    "    answer = []\n",
    "    dic = {}\n",
    "    # 1. dictionary에서 key, value값을 각각 저장  -> 이걸 고윳값으로 고려 ! \n",
    "    for sentence in record :\n",
    "        each_st = sentence.split()\n",
    "        if len(each_st) == 3 :\n",
    "            dic[each_st[1]] = each_st[2]\n",
    "       \n",
    "    # 2. 출력해주는 부분에서 위의 dictoionary에서 출력한 key에 따른 값을 출력하기! \n",
    "    for sentence in record:\n",
    "        each_st = sentence.split()\n",
    "        if each_st[0] == 'Enter':\n",
    "            answer.append(dic[each_st[1]]+'님이 들어왔습니다.')\n",
    "        elif each_st[0] == 'Leave':\n",
    "            answer.append(dic[each_st[1]]+'님이 나갔습니다.')\n",
    "    \n",
    "    return answer\n",
    "solution([\"Enter uid1234 Muzi\", \"Enter uid4567 Prodo\",\"Leave uid1234\",\"Enter uid1234 Prodo\",\"Change uid4567 Ryan\"])"
   ]
  },
  {
   "cell_type": "code",
   "execution_count": 2,
   "id": "d89e7488-4bce-4308-ae3e-e5f4da7b46aa",
   "metadata": {},
   "outputs": [
    {
     "data": {
      "text/plain": [
       "['Prodo님이 들어왔습니다.', 'Ryan님이 들어왔습니다.', 'Prodo님이 나갔습니다.', 'Prodo님이 들어왔습니다.']"
      ]
     },
     "execution_count": 2,
     "metadata": {},
     "output_type": "execute_result"
    }
   ],
   "source": [
    "def solution(record):\n",
    "    result = []\n",
    "    dic = {}\n",
    "    # 1. dictionary에서 key, value값을 각각 저장  -> 이걸 고윳값으로 고려 ! \n",
    "    for st in record:\n",
    "        each_st = st.split()\n",
    "        if each_st[0] in ('Enter','Change'):\n",
    "            dic[each_st[1]] = each_st[2]\n",
    "            \n",
    "    # 2. 출력해주는 부분에서 위의 dictoionary에서 출력한 key에 따른 값을 출력하기! \n",
    "    for st in record:\n",
    "        each_st = st.split()\n",
    "        if each_st[0] == 'Enter':\n",
    "            result.append(dic[each_st[1]]+'님이 들어왔습니다.')\n",
    "        elif each_st[0] == 'Leave':\n",
    "            result.append(dic[each_st[1]]+'님이 나갔습니다.')  \n",
    "    \n",
    "    return result\n",
    "\n",
    "solution([\"Enter uid1234 Muzi\", \"Enter uid4567 Prodo\",\"Leave uid1234\",\"Enter uid1234 Prodo\",\"Change uid4567 Ryan\"])"
   ]
  }
 ],
 "metadata": {
  "kernelspec": {
   "display_name": "Python 3 (ipykernel)",
   "language": "python",
   "name": "python3"
  },
  "language_info": {
   "codemirror_mode": {
    "name": "ipython",
    "version": 3
   },
   "file_extension": ".py",
   "mimetype": "text/x-python",
   "name": "python",
   "nbconvert_exporter": "python",
   "pygments_lexer": "ipython3",
   "version": "3.8.12"
  }
 },
 "nbformat": 4,
 "nbformat_minor": 5
}
